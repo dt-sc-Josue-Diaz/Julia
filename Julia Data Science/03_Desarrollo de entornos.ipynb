{
 "cells": [
  {
   "cell_type": "markdown",
   "id": "8e7ed5d5-1eb3-41c8-8c37-04a3b363a79b",
   "metadata": {},
   "source": [
    "# Básicos en Julia\n",
    "No es necesario dominar julia para hacer cienciad de datos, sin embargo ahora veremos una breve introducción al lenguaje. Para mayor detalle puede consultar la docuementación. \n",
    "\n",
    "(https://docs.julialang.org/)."
   ]
  },
  {
   "cell_type": "markdown",
   "id": "96e620d3-30cc-407e-87e9-72534acb6f2c",
   "metadata": {},
   "source": [
    "## Entornos de desarrollo. \n",
    "La menera mas sencilla de ejecutar Julia es por medio de RELP. Es una manera eficaz y rápida de hacer codigo en Julia, sin embargo para escribir scrips no siempre es el adecuado. Para ello podemos crear textos de codigos con terminación `.jl` donde Julia puede ejecutarlos como scrips. Para iniciar se recomienda el paquete `Pluto` que es una manera mas sencilla de re ejecutar Julia. A veces las primeras ejecuciones de Julia son tardadas."
   ]
  },
  {
   "cell_type": "code",
   "execution_count": 2,
   "id": "9efcc2e4-a6e6-47c1-89f0-736d4f8833e3",
   "metadata": {},
   "outputs": [
    {
     "data": {
      "text/plain": [
       "8"
      ]
     },
     "execution_count": 2,
     "metadata": {},
     "output_type": "execute_result"
    }
   ],
   "source": [
    "include(\"scrip.jl\")"
   ]
  },
  {
   "cell_type": "markdown",
   "id": "be063036-e682-4f59-b9dd-1c63d3f3c732",
   "metadata": {},
   "source": [
    "## Sintaxis\n",
    "Julia es un lenguaje de tipado dinámico, esto es, no es necesario declarar el tipo de varibale. Julia al es auto compilado, no es necesario compilar el scrip como C++. "
   ]
  },
  {
   "cell_type": "markdown",
   "id": "e34a18ae-c4e7-4957-abf4-017480b3bdeb",
   "metadata": {},
   "source": [
    "## Variables \n",
    "Las variables son valores que la computadora puden guardar en memoria, en el espacio físico del disco duro. "
   ]
  }
 ],
 "metadata": {
  "kernelspec": {
   "display_name": "Julia 1.7.3",
   "language": "julia",
   "name": "julia-1.7"
  },
  "language_info": {
   "file_extension": ".jl",
   "mimetype": "application/julia",
   "name": "julia",
   "version": "1.7.3"
  }
 },
 "nbformat": 4,
 "nbformat_minor": 5
}
