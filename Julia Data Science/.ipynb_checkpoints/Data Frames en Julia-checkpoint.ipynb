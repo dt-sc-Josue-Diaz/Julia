{
 "cells": [
  {
   "cell_type": "markdown",
   "id": "ba4d6f68",
   "metadata": {},
   "source": [
    "## `index` y `summarize`\n",
    "\n",
    "Dos cosas importantes de las tablas es la asignación entre variable y observación por medio de un índice único, esto nos permite saber exactamente como consultar y modificar la información. En Julia tenemos varias maneras de acceder a esta información. \n",
    " \n",
    "Para un tipo de dato es importante saber que;\n",
    "- El nombre de las columnas,\n",
    "- Acceder a la información de una variable, es decir todas las observaciones de la variable. Esto puede pensarse como un vector de un solo tipo.\n",
    "- Acceder a la información de una fila, es decir las obervaciones de un indiviudo en todas la variables. Acá es mejor pensar en un arreglo, pues en este caso la información no es uniforme en el tipo de datos. \n",
    "- Modificar la información, deducir información de ella y guardar o imporimir resultados. Guardar un nuevo data frame. \n",
    "\n",
    "Por ejemplo, imprimir graficas o tablas estadísticas sobre cierta población o cierto individuo. Podemos automatizar ciertas consulas por funciones. \n"
   ]
  },
  {
   "cell_type": "code",
   "execution_count": 14,
   "id": "d8188293",
   "metadata": {},
   "outputs": [],
   "source": [
    "# Librerias \n",
    "using DataFrames #Para el manejo de data frames\n",
    "using CSV #Para manejo de archivos tipo csv, tsv\n",
    "using XLSX #Para el manejo de archivos excel. "
   ]
  },
  {
   "cell_type": "code",
   "execution_count": 15,
   "id": "9f871f29",
   "metadata": {},
   "outputs": [
    {
     "data": {
      "text/html": [
       "<div class=\"data-frame\"><p>4 rows × 2 columns</p><table class=\"data-frame\"><thead><tr><th></th><th>name</th><th>grade_2020</th></tr><tr><th></th><th title=\"String7\">String7</th><th title=\"Float64\">Float64</th></tr></thead><tbody><tr><th>1</th><td>Sally</td><td>1.0</td></tr><tr><th>2</th><td>Bob</td><td>5.0</td></tr><tr><th>3</th><td>Alice</td><td>8.5</td></tr><tr><th>4</th><td>Hank</td><td>4.0</td></tr></tbody></table></div>"
      ],
      "text/latex": [
       "\\begin{tabular}{r|cc}\n",
       "\t& name & grade\\_2020\\\\\n",
       "\t\\hline\n",
       "\t& String7 & Float64\\\\\n",
       "\t\\hline\n",
       "\t1 & Sally & 1.0 \\\\\n",
       "\t2 & Bob & 5.0 \\\\\n",
       "\t3 & Alice & 8.5 \\\\\n",
       "\t4 & Hank & 4.0 \\\\\n",
       "\\end{tabular}\n"
      ],
      "text/plain": [
       "\u001b[1m4×2 DataFrame\u001b[0m\n",
       "\u001b[1m Row \u001b[0m│\u001b[1m name    \u001b[0m\u001b[1m grade_2020 \u001b[0m\n",
       "\u001b[1m     \u001b[0m│\u001b[90m String7 \u001b[0m\u001b[90m Float64    \u001b[0m\n",
       "─────┼─────────────────────\n",
       "   1 │ Sally           1.0\n",
       "   2 │ Bob             5.0\n",
       "   3 │ Alice           8.5\n",
       "   4 │ Hank            4.0"
      ]
     },
     "execution_count": 15,
     "metadata": {},
     "output_type": "execute_result"
    }
   ],
   "source": [
    "Data_Frame = CSV.read(\"grades.csv\", DataFrame)"
   ]
  },
  {
   "cell_type": "markdown",
   "id": "c5b397f3",
   "metadata": {},
   "source": [
    "Del data frame de explicación vamos accder al nombre de las columnas. "
   ]
  },
  {
   "cell_type": "code",
   "execution_count": 16,
   "id": "72d961b6",
   "metadata": {},
   "outputs": [
    {
     "data": {
      "text/plain": [
       "4-element Vector{String7}:\n",
       " \"Sally\"\n",
       " \"Bob\"\n",
       " \"Alice\"\n",
       " \"Hank\""
      ]
     },
     "execution_count": 16,
     "metadata": {},
     "output_type": "execute_result"
    }
   ],
   "source": [
    "function names_grades1()\n",
    "    df = Data_Frame\n",
    "    df.name\n",
    "end\n",
    "\n",
    "names_grades1()"
   ]
  },
  {
   "cell_type": "markdown",
   "id": "37720cf6",
   "metadata": {},
   "source": [
    "En esta función usamos `DataFrame.name` para acceder a los nombres de las columnas, esto es disntinto a las maneras anteriores \n",
    "`[!, :name]` pero nos da el mismo resultado. Aun así sigue siendo mas conveniente usar este método que `DataFrame.name`."
   ]
  },
  {
   "cell_type": "code",
   "execution_count": 17,
   "id": "7fc5479d",
   "metadata": {},
   "outputs": [
    {
     "data": {
      "text/plain": [
       "4-element Vector{String7}:\n",
       " \"Sally\"\n",
       " \"Bob\"\n",
       " \"Alice\"\n",
       " \"Hank\""
      ]
     },
     "execution_count": 17,
     "metadata": {},
     "output_type": "execute_result"
    }
   ],
   "source": [
    "function names_grades2()\n",
    "    df = Data_Frame\n",
    "    df[!, :name]\n",
    "end\n",
    "\n",
    "names_grades2()"
   ]
  },
  {
   "cell_type": "markdown",
   "id": "4fef065e",
   "metadata": {},
   "source": [
    "Para acceder a la filas, muy similar a R o Python podemos usar los corchetes para accder e indicar en ellos como vamos a querer los datos, lo mas simple es obtener toda una fila sabiendo su ídice. "
   ]
  },
  {
   "cell_type": "code",
   "execution_count": 18,
   "id": "61927119",
   "metadata": {},
   "outputs": [
    {
     "data": {
      "text/html": [
       "<p>DataFrameRow (2 columns)</p><div class=\"data-frame\"><table class=\"data-frame\"><thead><tr><th></th><th>name</th><th>grade_2020</th></tr><tr><th></th><th title=\"String7\">String7</th><th title=\"Float64\">Float64</th></tr></thead><tbody><tr><th>2</th><td>Bob</td><td>5.0</td></tr></tbody></table></div>"
      ],
      "text/latex": [
       "\\begin{tabular}{r|cc}\n",
       "\t& name & grade\\_2020\\\\\n",
       "\t\\hline\n",
       "\t& String7 & Float64\\\\\n",
       "\t\\hline\n",
       "\t2 & Bob & 5.0 \\\\\n",
       "\\end{tabular}\n"
      ],
      "text/plain": [
       "\u001b[1mDataFrameRow\u001b[0m\n",
       "\u001b[1m Row \u001b[0m│\u001b[1m name    \u001b[0m\u001b[1m grade_2020 \u001b[0m\n",
       "\u001b[1m     \u001b[0m│\u001b[90m String7 \u001b[0m\u001b[90m Float64    \u001b[0m\n",
       "─────┼─────────────────────\n",
       "   2 │ Bob             5.0"
      ]
     },
     "execution_count": 18,
     "metadata": {},
     "output_type": "execute_result"
    }
   ],
   "source": [
    "Data_Frame[2, :]"
   ]
  }
 ],
 "metadata": {
  "kernelspec": {
   "display_name": "Julia 1.7.3",
   "language": "julia",
   "name": "julia-1.7"
  },
  "language_info": {
   "file_extension": ".jl",
   "mimetype": "application/julia",
   "name": "julia",
   "version": "1.7.3"
  }
 },
 "nbformat": 4,
 "nbformat_minor": 5
}
