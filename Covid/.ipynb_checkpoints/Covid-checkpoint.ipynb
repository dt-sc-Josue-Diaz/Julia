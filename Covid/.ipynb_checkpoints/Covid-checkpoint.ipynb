{
 "cells": [
  {
   "cell_type": "markdown",
   "id": "66ad7836-da89-4910-baff-0ab8e8d64ad4",
   "metadata": {},
   "source": [
    "# Análisis de caso sobre covid"
   ]
  },
  {
   "cell_type": "code",
   "execution_count": 6,
   "id": "25d4c438-b9f6-436b-8c2f-7e4e2da13240",
   "metadata": {
    "tags": []
   },
   "outputs": [],
   "source": [
    "using DataFrames, CSV, Plots"
   ]
  },
  {
   "cell_type": "code",
   "execution_count": null,
   "id": "f9db0c48-b1bd-44a6-9d07-7c41a48f1b12",
   "metadata": {},
   "outputs": [],
   "source": []
  },
  {
   "cell_type": "code",
   "execution_count": null,
   "id": "373d1fa9-1b1d-4413-a6da-1a619c60b4cf",
   "metadata": {},
   "outputs": [],
   "source": []
  },
  {
   "cell_type": "code",
   "execution_count": null,
   "id": "66c6aabc-4d89-483e-a8e8-d4843974535e",
   "metadata": {},
   "outputs": [],
   "source": []
  },
  {
   "cell_type": "code",
   "execution_count": null,
   "id": "19d4a7f3-a996-4d99-a7f2-3c1099ef0e60",
   "metadata": {},
   "outputs": [],
   "source": []
  }
 ],
 "metadata": {
  "kernelspec": {
   "display_name": "Julia 1.8.0",
   "language": "julia",
   "name": "julia-1.8"
  },
  "language_info": {
   "file_extension": ".jl",
   "mimetype": "application/julia",
   "name": "julia",
   "version": "1.8.0"
  }
 },
 "nbformat": 4,
 "nbformat_minor": 5
}
