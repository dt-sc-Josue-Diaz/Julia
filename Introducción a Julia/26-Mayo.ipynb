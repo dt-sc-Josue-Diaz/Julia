{
 "cells": [
  {
   "cell_type": "markdown",
   "id": "8c01125f-62e1-4b35-a774-98e74623c4b1",
   "metadata": {},
   "source": [
    "# Continuación sobre las funciones. \n",
    "- Composición de funciones. \n",
    "- Funciones anónimas.\n",
    "- for en listas.\n",
    "- Variables locales y globales\n"
   ]
  },
  {
   "cell_type": "code",
   "execution_count": null,
   "id": "56d3f545-81de-4bd7-b041-596e1d074460",
   "metadata": {},
   "outputs": [],
   "source": [
    "f(x) = x^2"
   ]
  },
  {
   "cell_type": "code",
   "execution_count": null,
   "id": "43d9f4e1-4f0c-49c2-8e98-b7d2657a0b24",
   "metadata": {},
   "outputs": [],
   "source": [
    "g(x) = sqrt(x)"
   ]
  },
  {
   "cell_type": "code",
   "execution_count": null,
   "id": "9e9c7631-1780-499c-b35f-4b4bf34b420d",
   "metadata": {},
   "outputs": [],
   "source": [
    "# La composición de funciones\n",
    "(g∘f)(2)"
   ]
  },
  {
   "cell_type": "code",
   "execution_count": null,
   "id": "b84725f2-321c-43f3-a8ec-c1e635e46454",
   "metadata": {},
   "outputs": [],
   "source": [
    "g(f(-4))"
   ]
  },
  {
   "cell_type": "code",
   "execution_count": null,
   "id": "a9e38993-89b8-4d88-ac74-263c6265ae0f",
   "metadata": {},
   "outputs": [],
   "source": [
    "# Funciones que no son explicitas o descritas aun\n",
    "g_c(z) = z∘z"
   ]
  },
  {
   "cell_type": "code",
   "execution_count": null,
   "id": "2f828fbe-0741-44d2-9559-972e0b8e2673",
   "metadata": {},
   "outputs": [],
   "source": [
    "# funciones anónimas\n",
    "x -> sin(x)"
   ]
  },
  {
   "cell_type": "code",
   "execution_count": null,
   "id": "b041336b-6644-41b9-95a7-89566e00c3c1",
   "metadata": {},
   "outputs": [],
   "source": [
    "g_c(x -> sin(x))"
   ]
  },
  {
   "cell_type": "code",
   "execution_count": null,
   "id": "05762c23-59b4-4976-adcf-d8a20b71bfce",
   "metadata": {},
   "outputs": [],
   "source": [
    "# Un operador pipe \n",
    "3 |> f |> g"
   ]
  },
  {
   "cell_type": "code",
   "execution_count": null,
   "id": "a5a9d59d-b8d5-4ce6-b9c9-aecad71ebeb4",
   "metadata": {},
   "outputs": [],
   "source": [
    "[1,2,3,4] .|> [f,g,f,g]"
   ]
  },
  {
   "cell_type": "code",
   "execution_count": null,
   "id": "fa4e1661-fbbf-476c-8357-35b6b8cf138d",
   "metadata": {},
   "outputs": [],
   "source": [
    "y = rand(3,3)"
   ]
  },
  {
   "cell_type": "code",
   "execution_count": null,
   "id": "05a68aa3-9285-466e-a1b7-cc4b61d40560",
   "metadata": {},
   "outputs": [],
   "source": [
    "y = [i for i in 0:10 ]"
   ]
  },
  {
   "cell_type": "code",
   "execution_count": null,
   "id": "d4153f2a-96bc-49ca-9208-d8d93ac34056",
   "metadata": {},
   "outputs": [],
   "source": [
    "# a2 en este bloque es una variable global\n",
    "a2=4\n",
    "function f2(x2)\n",
    "    a2 =1 # a2 en este bloque es local.\n",
    "    x2+=a2\n",
    "    return x2\n",
    "end"
   ]
  },
  {
   "cell_type": "code",
   "execution_count": null,
   "id": "612d0242-0e54-4737-8260-15d44628552e",
   "metadata": {},
   "outputs": [],
   "source": [
    "f2(0)"
   ]
  },
  {
   "cell_type": "code",
   "execution_count": null,
   "id": "92564938-f14e-4439-a17a-e29e43a85d10",
   "metadata": {},
   "outputs": [],
   "source": [
    "a2"
   ]
  },
  {
   "cell_type": "code",
   "execution_count": null,
   "id": "2729d0a9-9435-44bd-bff4-a24f6ae9a43a",
   "metadata": {},
   "outputs": [],
   "source": [
    "# deepcopy no modifica el original.\n",
    "x = [1,2,3,4]\n",
    "y = deepcopy(x)"
   ]
  },
  {
   "cell_type": "code",
   "execution_count": null,
   "id": "a7337ee0-acd5-46b3-a5e3-167ff7e8454e",
   "metadata": {},
   "outputs": [],
   "source": [
    "# ! modificador. \n",
    "a2=4\n",
    "function f2!(x2)\n",
    "    a2 =1 # a2 en este bloque es local.\n",
    "    x2+=a2\n",
    "    return x2\n",
    "end"
   ]
  },
  {
   "cell_type": "code",
   "execution_count": null,
   "id": "8aa9afa2-8503-45fe-a630-bc8b15b4e49d",
   "metadata": {},
   "outputs": [],
   "source": [
    "# función constante\n",
    "# const\n"
   ]
  },
  {
   "cell_type": "markdown",
   "id": "49a9d35d-6c9d-43cf-bb38-f1256eb7bf7f",
   "metadata": {},
   "source": [
    "Descargar bibliotecas.  \n",
    "llamar es con \"usin\"\n",
    "Pkg es el instalador\n",
    "Plotly\n",
    "PyPlot\n",
    "Plots"
   ]
  },
  {
   "cell_type": "markdown",
   "id": "95a57ff2-9790-445f-806d-c564c5ecc617",
   "metadata": {},
   "source": [
    "# Gráficas "
   ]
  },
  {
   "cell_type": "code",
   "execution_count": 9,
   "id": "1bba96c7-8a0d-4fa7-afa5-0d189639c723",
   "metadata": {},
   "outputs": [
    {
     "ename": "LoadError",
     "evalue": "ArgumentError: Package Pyplot not found in current path:\n- Run `import Pkg; Pkg.add(\"Pyplot\")` to install the Pyplot package.\n",
     "output_type": "error",
     "traceback": [
      "ArgumentError: Package Pyplot not found in current path:\n- Run `import Pkg; Pkg.add(\"Pyplot\")` to install the Pyplot package.\n",
      "",
      "Stacktrace:",
      " [1] require(into::Module, mod::Symbol)",
      "   @ Base .\\loading.jl:967",
      " [2] eval",
      "   @ .\\boot.jl:373 [inlined]",
      " [3] include_string(mapexpr::typeof(REPL.softscope), mod::Module, code::String, filename::String)",
      "   @ Base .\\loading.jl:1196"
     ]
    }
   ],
   "source": [
    "using Pyplot"
   ]
  },
  {
   "cell_type": "code",
   "execution_count": 8,
   "id": "0146feba-d8b3-4734-8fba-fa4d72c96a98",
   "metadata": {},
   "outputs": [
    {
     "ename": "LoadError",
     "evalue": "UndefVarError: pyplot not defined",
     "output_type": "error",
     "traceback": [
      "UndefVarError: pyplot not defined",
      "",
      "Stacktrace:",
      " [1] top-level scope",
      "   @ In[8]:1",
      " [2] eval",
      "   @ .\\boot.jl:373 [inlined]",
      " [3] include_string(mapexpr::typeof(REPL.softscope), mod::Module, code::String, filename::String)",
      "   @ Base .\\loading.jl:1196"
     ]
    }
   ],
   "source": [
    "pyplot()"
   ]
  },
  {
   "cell_type": "code",
   "execution_count": null,
   "id": "98a2753e-8c65-4b19-9e60-b15793460b72",
   "metadata": {},
   "outputs": [],
   "source": [
    "pyplot()\n",
    "gr()\n",
    "plotly()\n"
   ]
  },
  {
   "cell_type": "code",
   "execution_count": null,
   "id": "36c4466b-e137-4f52-b208-c323fee60a0f",
   "metadata": {},
   "outputs": [],
   "source": [
    "plotly()\n",
    "plot()"
   ]
  },
  {
   "cell_type": "code",
   "execution_count": null,
   "id": "5faaca53-a9e3-460c-9448-2f2d7494af1e",
   "metadata": {},
   "outputs": [],
   "source": [
    "f(x)=x^2"
   ]
  },
  {
   "cell_type": "code",
   "execution_count": null,
   "id": "1b1ea97e-25c7-4d1b-b4ba-11dfbeea71b9",
   "metadata": {},
   "outputs": [],
   "source": [
    "plot(0:0.1:1,f.(0:0.1:1))"
   ]
  },
  {
   "cell_type": "code",
   "execution_count": null,
   "id": "9f07afb8-63b6-4052-8e4a-5b1a41924ef0",
   "metadata": {},
   "outputs": [],
   "source": [
    "plot()"
   ]
  },
  {
   "cell_type": "code",
   "execution_count": null,
   "id": "157af177",
   "metadata": {},
   "outputs": [],
   "source": [
    "scatter(0:0.1:1,f.(0:0.1:1))"
   ]
  },
  {
   "cell_type": "code",
   "execution_count": null,
   "id": "752fdbf3",
   "metadata": {},
   "outputs": [],
   "source": [
    "annotate(0:0.1:1,f.(0:0.1:1))"
   ]
  },
  {
   "cell_type": "code",
   "execution_count": null,
   "id": "5f7dd484",
   "metadata": {},
   "outputs": [],
   "source": [
    "?quiver # Graficar vectores"
   ]
  },
  {
   "cell_type": "code",
   "execution_count": null,
   "id": "851601d9",
   "metadata": {},
   "outputs": [],
   "source": [
    "?histogram"
   ]
  },
  {
   "cell_type": "code",
   "execution_count": null,
   "id": "166010eb",
   "metadata": {},
   "outputs": [],
   "source": [
    "heatmap"
   ]
  },
  {
   "cell_type": "code",
   "execution_count": null,
   "id": "329b96d0",
   "metadata": {},
   "outputs": [],
   "source": [
    "x = y = range(-20, stop = 20, length = 100) surface(x, y, (x, y) -> x^2 + y^2) "
   ]
  },
  {
   "cell_type": "code",
   "execution_count": null,
   "id": "c3ce1651-caba-4c4c-bdf4-9912361c2208",
   "metadata": {},
   "outputs": [],
   "source": []
  },
  {
   "cell_type": "code",
   "execution_count": null,
   "id": "126fb0db-9310-4f33-9cc9-cb8e740633d6",
   "metadata": {},
   "outputs": [],
   "source": [
    "for x ∈ 0:0.1:5π plot(0:0.01:5π, sin.(0:0.01:5π),cos.(0:0.01:5π) , key = false, color = :green) scatter!([x+i for i in 0:0.3:10], [sin(x+i) for i in 0:0.3:10], [cos(x+i) for i in 0:0.3:10], show = :ijulia, color = :pink, alpha = 0.2, markerstrokewidth = 0.5, markersize = 10) end plot!() "
   ]
  },
  {
   "cell_type": "markdown",
   "id": "8c28022e-ce9f-4ec3-8823-0b3421c03dad",
   "metadata": {},
   "source": [
    "https://htmlcolorcodes.com/es/"
   ]
  },
  {
   "cell_type": "code",
   "execution_count": null,
   "id": "dce87bbc-be27-4959-927f-2b5d0d8e3cda",
   "metadata": {},
   "outputs": [],
   "source": [
    "x = rand(100)\n",
    "y = rand(100)\n",
    "color=[RGB(i,j,k) for i in 0:0.1:1, j in 0:0.1:1,k in 0:0.1:1,]"
   ]
  },
  {
   "cell_type": "code",
   "execution_count": 1,
   "id": "b7042381-ca81-4cca-89c3-3cacfd1c03a9",
   "metadata": {},
   "outputs": [
    {
     "ename": "UndefVarError",
     "evalue": "\u001b[91mUndefVarError: RGB not defined\u001b[39m",
     "output_type": "error",
     "traceback": [
      "\u001b[91mUndefVarError: RGB not defined\u001b[39m",
      "",
      "Stacktrace:",
      " [1] (::getfield(Main, Symbol(\"##3#4\")))(::Tuple{Float64,Float64,Float64}) at ./none:0",
      " [2] iterate at ./generator.jl:47 [inlined]",
      " [3] collect(::Base.Generator{Base.Iterators.ProductIterator{Tuple{StepRangeLen{Float64,Base.TwicePrecision{Float64},Base.TwicePrecision{Float64}},StepRangeLen{Float64,Base.TwicePrecision{Float64},Base.TwicePrecision{Float64}},StepRangeLen{Float64,Base.TwicePrecision{Float64},Base.TwicePrecision{Float64}}}},getfield(Main, Symbol(\"##3#4\"))}) at ./array.jl:619",
      " [4] top-level scope at In[1]:3"
     ]
    }
   ],
   "source": [
    "x=rand(100)\n",
    "y=rand(100)\n",
    "color=[RGB(i,j,k) for i ∈ 0:0.01:1 , j ∈ 0:0.01:1,k ∈ 0:0.01:1]\n",
    "color[1,:,:]"
   ]
  }
 ],
 "metadata": {
  "kernelspec": {
   "display_name": "Julia 1.7.2",
   "language": "julia",
   "name": "julia-1.7"
  },
  "language_info": {
   "file_extension": ".jl",
   "mimetype": "application/julia",
   "name": "julia",
   "version": "1.7.2"
  }
 },
 "nbformat": 4,
 "nbformat_minor": 5
}
