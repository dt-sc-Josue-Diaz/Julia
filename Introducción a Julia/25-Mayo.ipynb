{
 "cells": [
  {
   "cell_type": "markdown",
   "id": "3eb0d502-006b-4692-8daf-6471b1a0f4c8",
   "metadata": {},
   "source": [
    "# Operaciones con matrices"
   ]
  },
  {
   "cell_type": "code",
   "execution_count": 4,
   "id": "d2f3f2b3-e604-44cc-8d98-34f318e2de88",
   "metadata": {},
   "outputs": [
    {
     "data": {
      "text/plain": [
       "2×2 Array{Int32,2}:\n",
       " 1  2\n",
       " 3  4"
      ]
     },
     "execution_count": 4,
     "metadata": {},
     "output_type": "execute_result"
    }
   ],
   "source": [
    "A = [1 2;3 4]"
   ]
  },
  {
   "cell_type": "code",
   "execution_count": 7,
   "id": "4fd39921-4a11-455e-939c-744c1353e8c9",
   "metadata": {},
   "outputs": [
    {
     "data": {
      "text/plain": [
       "4×4 Array{Int32,2}:\n",
       " 1  2  1  2\n",
       " 3  4  3  4\n",
       " 1  2  1  2\n",
       " 3  4  3  4"
      ]
     },
     "execution_count": 7,
     "metadata": {},
     "output_type": "execute_result"
    }
   ],
   "source": [
    "# Matriz por bloques\n",
    "C = [A A; A A]"
   ]
  },
  {
   "cell_type": "code",
   "execution_count": 8,
   "id": "81f6d825-e5de-4865-80df-b3350a2689d6",
   "metadata": {},
   "outputs": [
    {
     "data": {
      "text/plain": [
       "2-element Array{Array{Int32,2},1}:\n",
       " [1 2; 3 4]\n",
       " [1 2; 3 4]"
      ]
     },
     "execution_count": 8,
     "metadata": {},
     "output_type": "execute_result"
    }
   ],
   "source": [
    "C = [[A] ; [A]]"
   ]
  },
  {
   "cell_type": "code",
   "execution_count": 10,
   "id": "273e1f2f-09fe-418e-8bde-8575ac1cb2a5",
   "metadata": {},
   "outputs": [
    {
     "data": {
      "text/plain": [
       "2×2 Array{Int32,2}:\n",
       "  5  10\n",
       " 15  20"
      ]
     },
     "execution_count": 10,
     "metadata": {},
     "output_type": "execute_result"
    }
   ],
   "source": [
    "# Suma de matrices\n",
    "C = 2*A+ 3*A"
   ]
  },
  {
   "cell_type": "code",
   "execution_count": 11,
   "id": "70ed2039-7a84-421d-9dc1-2e8bcae26df5",
   "metadata": {},
   "outputs": [
    {
     "data": {
      "text/plain": [
       "3×3 Array{Float64,2}:\n",
       " 1.0  1.0  1.0\n",
       " 1.0  1.0  1.0\n",
       " 1.0  1.0  1.0"
      ]
     },
     "execution_count": 11,
     "metadata": {},
     "output_type": "execute_result"
    }
   ],
   "source": [
    "# Matriz de 3 por 3 de puros unos\n",
    "A = ones(3,3)"
   ]
  },
  {
   "cell_type": "code",
   "execution_count": 84,
   "id": "b4c79e0d-fcbc-4691-8ed0-760ad420eb73",
   "metadata": {},
   "outputs": [
    {
     "data": {
      "text/plain": [
       "5×5 Array{Float64,2}:\n",
       " 0.0  0.0  0.0  0.0  0.0\n",
       " 0.0  0.0  0.0  0.0  0.0\n",
       " 0.0  0.0  0.0  0.0  0.0\n",
       " 0.0  0.0  0.0  0.0  0.0\n",
       " 0.0  0.0  0.0  0.0  0.0"
      ]
     },
     "execution_count": 84,
     "metadata": {},
     "output_type": "execute_result"
    }
   ],
   "source": [
    "matriz = zeros(5,5)"
   ]
  },
  {
   "cell_type": "code",
   "execution_count": 85,
   "id": "0c71c709-c6be-4937-b819-7fc5a8166117",
   "metadata": {},
   "outputs": [
    {
     "data": {
      "text/plain": [
       "2-element Array{Float64,1}:\n",
       " 0.0\n",
       " 0.0"
      ]
     },
     "execution_count": 85,
     "metadata": {},
     "output_type": "execute_result"
    }
   ],
   "source": [
    "vector = zeros(2)"
   ]
  },
  {
   "cell_type": "code",
   "execution_count": 12,
   "id": "cb78795f-1ef7-4ddf-acde-bbcce19f70c4",
   "metadata": {},
   "outputs": [
    {
     "data": {
      "text/plain": [
       "2×2 Array{Int32,2}:\n",
       " 1  2\n",
       " 3  4"
      ]
     },
     "execution_count": 12,
     "metadata": {},
     "output_type": "execute_result"
    }
   ],
   "source": [
    "B = [1 2; 3 4]"
   ]
  },
  {
   "cell_type": "code",
   "execution_count": 13,
   "id": "09abcc99-7f0b-4353-bf06-5e67c06fba2d",
   "metadata": {},
   "outputs": [
    {
     "data": {
      "text/plain": [
       "2×2 Array{Int32,2}:\n",
       "  7  10\n",
       " 15  22"
      ]
     },
     "execution_count": 13,
     "metadata": {},
     "output_type": "execute_result"
    }
   ],
   "source": [
    " C = B*B"
   ]
  },
  {
   "cell_type": "code",
   "execution_count": 15,
   "id": "f266ae14-e9d2-4113-bab8-7f4baa8f77d6",
   "metadata": {},
   "outputs": [
    {
     "data": {
      "text/plain": [
       "2×2 Array{Int32,2}:\n",
       "  4625   6750\n",
       " 10125  14750"
      ]
     },
     "execution_count": 15,
     "metadata": {},
     "output_type": "execute_result"
    }
   ],
   "source": [
    "C^3"
   ]
  },
  {
   "cell_type": "code",
   "execution_count": 16,
   "id": "0953351a-68e0-4945-a083-b72adb5131a2",
   "metadata": {},
   "outputs": [
    {
     "data": {
      "text/plain": [
       "3×3 Array{Float64,2}:\n",
       " 0.04704  0.04704  0.04704\n",
       " 0.04704  0.04704  0.04704\n",
       " 0.04704  0.04704  0.04704"
      ]
     },
     "execution_count": 16,
     "metadata": {},
     "output_type": "execute_result"
    }
   ],
   "source": [
    "# Desarrollo en serie de Taylor\n",
    "sin(A)"
   ]
  },
  {
   "cell_type": "code",
   "execution_count": 17,
   "id": "6ed4cd2d-50f2-46ec-a01a-dd06e038fea8",
   "metadata": {},
   "outputs": [
    {
     "data": {
      "text/plain": [
       "2×2 Array{Float64,2}:\n",
       " 0.841471   0.909297\n",
       " 0.14112   -0.756802"
      ]
     },
     "execution_count": 17,
     "metadata": {},
     "output_type": "execute_result"
    }
   ],
   "source": [
    "# El seno entrada a entrada\n",
    "sin.(B)"
   ]
  },
  {
   "cell_type": "code",
   "execution_count": 18,
   "id": "a3bd5eb5-2677-4fd1-a6f4-39bbd4a33156",
   "metadata": {},
   "outputs": [
    {
     "data": {
      "text/plain": [
       "2×2 Array{Int32,2}:\n",
       "  1   8\n",
       " 27  64"
      ]
     },
     "execution_count": 18,
     "metadata": {},
     "output_type": "execute_result"
    }
   ],
   "source": [
    "# Elemento por lemento\n",
    "B .^3"
   ]
  },
  {
   "cell_type": "code",
   "execution_count": 19,
   "id": "abeb017b-da38-4178-a1d8-a0339ed5647c",
   "metadata": {},
   "outputs": [
    {
     "data": {
      "text/plain": [
       "(2, 2)"
      ]
     },
     "execution_count": 19,
     "metadata": {},
     "output_type": "execute_result"
    }
   ],
   "source": [
    "# Dimensiones de una matriz\n",
    "size(B)"
   ]
  },
  {
   "cell_type": "code",
   "execution_count": 20,
   "id": "a2309382-49f7-4593-ad77-555d8935f67e",
   "metadata": {},
   "outputs": [
    {
     "data": {
      "text/plain": [
       "4"
      ]
     },
     "execution_count": 20,
     "metadata": {},
     "output_type": "execute_result"
    }
   ],
   "source": [
    "# El tamaño de una matriz.\n",
    "length(B)"
   ]
  },
  {
   "cell_type": "code",
   "execution_count": null,
   "id": "20e2067d-97f5-418e-a8d1-a7d48a14802c",
   "metadata": {},
   "outputs": [],
   "source": [
    "# Inversa de una matriz.\n",
    "inv(B)"
   ]
  },
  {
   "cell_type": "code",
   "execution_count": 21,
   "id": "1fd4f699-4ade-4022-b6e9-f5af6c51f9f5",
   "metadata": {},
   "outputs": [
    {
     "data": {
      "text/plain": [
       "2×2 LinearAlgebra.Transpose{Int32,Array{Int32,2}}:\n",
       " 1  3\n",
       " 2  4"
      ]
     },
     "execution_count": 21,
     "metadata": {},
     "output_type": "execute_result"
    }
   ],
   "source": [
    "transpose(B)"
   ]
  },
  {
   "cell_type": "code",
   "execution_count": 22,
   "id": "8f53bacb-cc86-4646-8c00-6a42bcc40126",
   "metadata": {},
   "outputs": [],
   "source": [
    "# Agreagar la biblioteca linear algebra.\n",
    "# indicar el contenido de un paquete.\n",
    "\n",
    "using LinearAlgebra"
   ]
  },
  {
   "cell_type": "code",
   "execution_count": 25,
   "id": "92d04c52-602c-4f9a-aece-31353d730d29",
   "metadata": {},
   "outputs": [
    {
     "data": {
      "text/plain": [
       "5"
      ]
     },
     "execution_count": 25,
     "metadata": {},
     "output_type": "execute_result"
    }
   ],
   "source": [
    "tr(B)"
   ]
  },
  {
   "cell_type": "code",
   "execution_count": 27,
   "id": "bfd740a4-5783-4ae9-bead-820aea277ef4",
   "metadata": {},
   "outputs": [
    {
     "data": {
      "text/plain": [
       "-2.0"
      ]
     },
     "execution_count": 27,
     "metadata": {},
     "output_type": "execute_result"
    }
   ],
   "source": [
    "det(B)"
   ]
  },
  {
   "cell_type": "code",
   "execution_count": 28,
   "id": "2f601497-bf1a-4402-bfe9-20ecc620d84b",
   "metadata": {},
   "outputs": [
    {
     "data": {
      "text/plain": [
       "2-element Array{Float64,1}:\n",
       " -0.3722813232690143\n",
       "  5.372281323269014 "
      ]
     },
     "execution_count": 28,
     "metadata": {},
     "output_type": "execute_result"
    }
   ],
   "source": [
    "eigvals(B)"
   ]
  },
  {
   "cell_type": "code",
   "execution_count": 30,
   "id": "f6abf903-83a5-4aa7-9bcc-2b2437de0011",
   "metadata": {},
   "outputs": [
    {
     "data": {
      "text/plain": [
       "2×2 Array{Float64,2}:\n",
       " -0.824565  -0.415974\n",
       "  0.565767  -0.909377"
      ]
     },
     "execution_count": 30,
     "metadata": {},
     "output_type": "execute_result"
    }
   ],
   "source": [
    "eigvecs(B)"
   ]
  },
  {
   "cell_type": "code",
   "execution_count": 31,
   "id": "0d1c8c0c-6e3f-4fd1-b876-d490a6d3dc37",
   "metadata": {},
   "outputs": [
    {
     "name": "stdout",
     "output_type": "stream",
     "text": [
      "search: \u001b[0m\u001b[1md\u001b[22m\u001b[0m\u001b[1mi\u001b[22m\u001b[0m\u001b[1ma\u001b[22m\u001b[0m\u001b[1mg\u001b[22m \u001b[0m\u001b[1md\u001b[22m\u001b[0m\u001b[1mi\u001b[22m\u001b[0m\u001b[1ma\u001b[22m\u001b[0m\u001b[1mg\u001b[22mm \u001b[0m\u001b[1md\u001b[22m\u001b[0m\u001b[1mi\u001b[22m\u001b[0m\u001b[1ma\u001b[22m\u001b[0m\u001b[1mg\u001b[22mind \u001b[0m\u001b[1mD\u001b[22m\u001b[0m\u001b[1mi\u001b[22m\u001b[0m\u001b[1ma\u001b[22m\u001b[0m\u001b[1mg\u001b[22monal is\u001b[0m\u001b[1md\u001b[22m\u001b[0m\u001b[1mi\u001b[22m\u001b[0m\u001b[1ma\u001b[22m\u001b[0m\u001b[1mg\u001b[22m Bi\u001b[0m\u001b[1md\u001b[22m\u001b[0m\u001b[1mi\u001b[22m\u001b[0m\u001b[1ma\u001b[22m\u001b[0m\u001b[1mg\u001b[22monal Tri\u001b[0m\u001b[1md\u001b[22m\u001b[0m\u001b[1mi\u001b[22m\u001b[0m\u001b[1ma\u001b[22m\u001b[0m\u001b[1mg\u001b[22monal SymTri\u001b[0m\u001b[1md\u001b[22m\u001b[0m\u001b[1mi\u001b[22m\u001b[0m\u001b[1ma\u001b[22m\u001b[0m\u001b[1mg\u001b[22monal\n",
      "\n"
     ]
    },
    {
     "data": {
      "text/latex": [
       "\\begin{verbatim}\n",
       "diag(M, k::Integer=0)\n",
       "\\end{verbatim}\n",
       "The \\texttt{k}th diagonal of a matrix, as a vector.\n",
       "\n",
       "See also: \\href{@ref}{\\texttt{diagm}}\n",
       "\n",
       "\\section{Examples}\n",
       "\\begin{verbatim}\n",
       "julia> A = [1 2 3; 4 5 6; 7 8 9]\n",
       "3×3 Array{Int64,2}:\n",
       " 1  2  3\n",
       " 4  5  6\n",
       " 7  8  9\n",
       "\n",
       "julia> diag(A,1)\n",
       "2-element Array{Int64,1}:\n",
       " 2\n",
       " 6\n",
       "\\end{verbatim}\n"
      ],
      "text/markdown": [
       "```\n",
       "diag(M, k::Integer=0)\n",
       "```\n",
       "\n",
       "The `k`th diagonal of a matrix, as a vector.\n",
       "\n",
       "See also: [`diagm`](@ref)\n",
       "\n",
       "# Examples\n",
       "\n",
       "```jldoctest\n",
       "julia> A = [1 2 3; 4 5 6; 7 8 9]\n",
       "3×3 Array{Int64,2}:\n",
       " 1  2  3\n",
       " 4  5  6\n",
       " 7  8  9\n",
       "\n",
       "julia> diag(A,1)\n",
       "2-element Array{Int64,1}:\n",
       " 2\n",
       " 6\n",
       "```\n"
      ],
      "text/plain": [
       "\u001b[36m  diag(M, k::Integer=0)\u001b[39m\n",
       "\n",
       "  The \u001b[36mk\u001b[39mth diagonal of a matrix, as a vector.\n",
       "\n",
       "  See also: \u001b[36mdiagm\u001b[39m\n",
       "\n",
       "\u001b[1m  Examples\u001b[22m\n",
       "\u001b[1m  ≡≡≡≡≡≡≡≡≡≡\u001b[22m\n",
       "\n",
       "\u001b[36m  julia> A = [1 2 3; 4 5 6; 7 8 9]\u001b[39m\n",
       "\u001b[36m  3×3 Array{Int64,2}:\u001b[39m\n",
       "\u001b[36m   1  2  3\u001b[39m\n",
       "\u001b[36m   4  5  6\u001b[39m\n",
       "\u001b[36m   7  8  9\u001b[39m\n",
       "\u001b[36m  \u001b[39m\n",
       "\u001b[36m  julia> diag(A,1)\u001b[39m\n",
       "\u001b[36m  2-element Array{Int64,1}:\u001b[39m\n",
       "\u001b[36m   2\u001b[39m\n",
       "\u001b[36m   6\u001b[39m"
      ]
     },
     "execution_count": 31,
     "metadata": {},
     "output_type": "execute_result"
    }
   ],
   "source": [
    "?diag"
   ]
  },
  {
   "cell_type": "code",
   "execution_count": 34,
   "id": "829f2168-cbbe-4d39-9668-d445cf52dade",
   "metadata": {},
   "outputs": [
    {
     "data": {
      "text/plain": [
       "1:10"
      ]
     },
     "execution_count": 34,
     "metadata": {},
     "output_type": "execute_result"
    }
   ],
   "source": [
    "# Una rango de numeros. EN general el uso de rangos está optimizado en Julia\n",
    "rango = 1:10"
   ]
  },
  {
   "cell_type": "code",
   "execution_count": 33,
   "id": "66cae784-67ad-4d51-a45e-5862174d6deb",
   "metadata": {},
   "outputs": [
    {
     "data": {
      "text/plain": [
       "UnitRange{Int32}"
      ]
     },
     "execution_count": 33,
     "metadata": {},
     "output_type": "execute_result"
    }
   ],
   "source": [
    "typeof(rango)"
   ]
  },
  {
   "cell_type": "code",
   "execution_count": 36,
   "id": "5726c200-0a0f-4bbb-992b-6efac4f6afc5",
   "metadata": {},
   "outputs": [
    {
     "data": {
      "text/plain": [
       "10-element Array{Int32,1}:\n",
       "   1\n",
       "   4\n",
       "   9\n",
       "  16\n",
       "  25\n",
       "  36\n",
       "  49\n",
       "  64\n",
       "  81\n",
       " 100"
      ]
     },
     "execution_count": 36,
     "metadata": {},
     "output_type": "execute_result"
    }
   ],
   "source": [
    "rango .^2"
   ]
  },
  {
   "cell_type": "code",
   "execution_count": 41,
   "id": "6b973ecd-8140-429c-9656-4289a2ee15ca",
   "metadata": {},
   "outputs": [
    {
     "data": {
      "text/plain": [
       "63-element Array{Float64,1}:\n",
       "  0.0                \n",
       "  0.09983341664682815\n",
       "  0.19866933079506122\n",
       "  0.2955202066613396 \n",
       "  0.3894183423086505 \n",
       "  0.479425538604203  \n",
       "  0.5646424733950355 \n",
       "  0.6442176872376911 \n",
       "  0.7173560908995228 \n",
       "  0.7833269096274834 \n",
       "  0.8414709848078965 \n",
       "  0.8912073600614354 \n",
       "  0.9320390859672264 \n",
       "  ⋮                  \n",
       " -0.9258146823277321 \n",
       " -0.8834546557201531 \n",
       " -0.8322674422239008 \n",
       " -0.7727644875559871 \n",
       " -0.7055403255703919 \n",
       " -0.6312666378723208 \n",
       " -0.5506855425976376 \n",
       " -0.4646021794137566 \n",
       " -0.373876664830236  \n",
       " -0.27941549819892586\n",
       " -0.18216250427209502\n",
       " -0.0830894028174964 "
      ]
     },
     "execution_count": 41,
     "metadata": {},
     "output_type": "execute_result"
    }
   ],
   "source": [
    "sin.(0:0.1:2pi )"
   ]
  },
  {
   "cell_type": "code",
   "execution_count": 40,
   "id": "73c19633-b353-4cc6-b6f6-2a1be1c6b738",
   "metadata": {},
   "outputs": [
    {
     "data": {
      "text/plain": [
       "4-element Array{Float64,1}:\n",
       " 0.0\n",
       " 3.0\n",
       " 6.0\n",
       " 9.0"
      ]
     },
     "execution_count": 40,
     "metadata": {},
     "output_type": "execute_result"
    }
   ],
   "source": [
    "# Arreglos con rangos. Los rangos se usan para generar arreglos. \n",
    "sqrt.((0:3:10).^2)"
   ]
  },
  {
   "cell_type": "code",
   "execution_count": 44,
   "id": "73292f14-3d13-4c7c-9315-8e9c7bef049a",
   "metadata": {},
   "outputs": [
    {
     "data": {
      "text/plain": [
       "2:2:10"
      ]
     },
     "execution_count": 44,
     "metadata": {},
     "output_type": "execute_result"
    }
   ],
   "source": [
    "# Operaciones con rangos como conjunto de datos. \\cap \\cup con tabulador. \n",
    "(1:10) ∩ (0:2:10)\n"
   ]
  },
  {
   "cell_type": "markdown",
   "id": "e768bae3-3891-4634-9ec6-6b43f960f713",
   "metadata": {},
   "source": [
    "# Bloque de codigos\n",
    "Secciones de bloques de codigos indicados por tabulador. Se usan para condicionales. Sirven para distinguir las acciones por ejemplo. "
   ]
  },
  {
   "cell_type": "code",
   "execution_count": 52,
   "id": "0cb06cac-c68e-4617-b9df-ee33b1b94c25",
   "metadata": {},
   "outputs": [
    {
     "name": "stdout",
     "output_type": "stream",
     "text": [
      "Hola, Mundo!"
     ]
    }
   ],
   "source": [
    "if true\n",
    "    print(\"Hola, Mundo!\")\n",
    "end"
   ]
  },
  {
   "cell_type": "code",
   "execution_count": 58,
   "id": "8b364510-9601-401d-9158-3e8aeff99efb",
   "metadata": {},
   "outputs": [
    {
     "name": "stdout",
     "output_type": "stream",
     "text": [
      "0.5"
     ]
    }
   ],
   "source": [
    "valor = 2\n",
    "if valor !=0\n",
    "    division = 1/valor\n",
    "    print(\"$division\")\n",
    "end"
   ]
  },
  {
   "cell_type": "code",
   "execution_count": 59,
   "id": "752c9281-b806-45b1-a89b-2e49276e748f",
   "metadata": {},
   "outputs": [
    {
     "name": "stdout",
     "output_type": "stream",
     "text": [
      "error"
     ]
    }
   ],
   "source": [
    "valor = 0\n",
    "if valor !=0\n",
    "    division = 1/valor\n",
    "    print(\"$division\")\n",
    "else\n",
    "    print(\"error\")\n",
    "end"
   ]
  },
  {
   "cell_type": "code",
   "execution_count": 62,
   "id": "faf7960d-b829-48f0-b8ee-5d40413dc80f",
   "metadata": {},
   "outputs": [
    {
     "name": "stdout",
     "output_type": "stream",
     "text": [
      "No te conozco"
     ]
    }
   ],
   "source": [
    "nombre = \"Maria\" \n",
    "if nombre == \"pepe\"\n",
    "    print(\"Hola pepe\")\n",
    "elseif nombre == \"Toño\"\n",
    "    nombre(\"Hola toño\")\n",
    "elseif nombre == \"Maria\"\n",
    "    print(\"No te conozco\")\n",
    "end"
   ]
  },
  {
   "cell_type": "markdown",
   "id": "a5caf4fa-e98c-423d-a780-225cd118d075",
   "metadata": {},
   "source": [
    "# Ciclos y bucles "
   ]
  },
  {
   "cell_type": "code",
   "execution_count": 63,
   "id": "29786ad3-d058-4092-8ac9-a063bf0978b1",
   "metadata": {},
   "outputs": [
    {
     "data": {
      "text/plain": [
       "6-element Array{Int32,1}:\n",
       " 6\n",
       " 7\n",
       " 8\n",
       " 4\n",
       " 5\n",
       " 6"
      ]
     },
     "execution_count": 63,
     "metadata": {},
     "output_type": "execute_result"
    }
   ],
   "source": [
    "arreglo = [6,7,8,4,5,6]\n",
    "length(arreglo)"
   ]
  },
  {
   "cell_type": "code",
   "execution_count": 68,
   "id": "913beca0-4882-475b-acc7-008eb28d3543",
   "metadata": {},
   "outputs": [
    {
     "name": "stdout",
     "output_type": "stream",
     "text": [
      "6\n",
      "7\n",
      "8\n",
      "4\n",
      "5\n",
      "6\n"
     ]
    }
   ],
   "source": [
    "for elementos in arreglo\n",
    "    println(elementos)\n",
    "end   "
   ]
  },
  {
   "cell_type": "code",
   "execution_count": 71,
   "id": "8b60494a-c3d3-4a37-b861-797fae50e9bd",
   "metadata": {},
   "outputs": [
    {
     "name": "stdout",
     "output_type": "stream",
     "text": [
      "05\n",
      "07\n",
      "15\n",
      "17\n"
     ]
    }
   ],
   "source": [
    "for numero in  0:1\n",
    "    for numero2 in 5:7\n",
    "        if numero2 == 6\n",
    "            continue\n",
    "        end\n",
    "        println(numero, numero2)\n",
    "    end\n",
    "end"
   ]
  },
  {
   "cell_type": "code",
   "execution_count": 72,
   "id": "1387e871-84e9-4e43-b47f-72fe56b351a1",
   "metadata": {},
   "outputs": [
    {
     "name": "stdout",
     "output_type": "stream",
     "text": [
      "05\n",
      "15\n"
     ]
    }
   ],
   "source": [
    "for numero in  0:1\n",
    "    for numero2 in 5:7\n",
    "        if numero2 == 6\n",
    "            break\n",
    "        end\n",
    "        println(numero, numero2)\n",
    "    end\n",
    "end"
   ]
  },
  {
   "cell_type": "code",
   "execution_count": 80,
   "id": "d7b292c0-008c-470d-a437-39e7fcf7dcad",
   "metadata": {},
   "outputs": [
    {
     "name": "stdout",
     "output_type": "stream",
     "text": [
      "paso: 1\n",
      "paso: 2\n",
      "paso: 3\n",
      "paso: 4\n",
      "paso: 5\n",
      "paso: 6\n",
      "paso: 7\n",
      "paso: 8\n",
      "paso: 9\n",
      "paso: 10\n",
      "paso: 11\n"
     ]
    }
   ],
   "source": [
    "# Ciclo while\n",
    "i = 0\n",
    "while i<10\n",
    "    i = i+1\n",
    "    println(\"paso: \", i)\n",
    "    end\n",
    "end"
   ]
  },
  {
   "cell_type": "code",
   "execution_count": 81,
   "id": "462fd2ac-5ccf-4b24-af74-66986e749202",
   "metadata": {},
   "outputs": [
    {
     "name": "stdout",
     "output_type": "stream",
     "text": [
      "paso: 1\n",
      "paso: 2\n",
      "paso: 3\n",
      "paso: 4\n",
      "paso: 5\n",
      "paso: 6\n",
      "paso: 7\n",
      "paso: 8\n",
      "paso: 9\n",
      "paso: 10\n"
     ]
    }
   ],
   "source": [
    "# Ciclo while\n",
    "i = 0\n",
    "while true\n",
    "    i = i+1\n",
    "    println(\"paso: \", i)\n",
    "    if i>9\n",
    "        break\n",
    "    end\n",
    "end"
   ]
  },
  {
   "cell_type": "markdown",
   "id": "c8325874-b597-4b27-ab99-37e0e308cff1",
   "metadata": {},
   "source": [
    "# Funciones\n",
    "- Las funciones tambien son un tipo de dato."
   ]
  },
  {
   "cell_type": "code",
   "execution_count": 86,
   "id": "1ebfddc4-3187-4d72-81e5-d27d8a8a0a12",
   "metadata": {},
   "outputs": [
    {
     "data": {
      "text/plain": [
       "cuadrado (generic function with 1 method)"
      ]
     },
     "execution_count": 86,
     "metadata": {},
     "output_type": "execute_result"
    }
   ],
   "source": [
    "# Las fucniones sencillas. \n",
    "cuadrado(x) = x^2"
   ]
  },
  {
   "cell_type": "code",
   "execution_count": 87,
   "id": "a9a7caf1-894b-44da-b35e-9b31e4015e4c",
   "metadata": {},
   "outputs": [
    {
     "data": {
      "text/plain": [
       "9"
      ]
     },
     "execution_count": 87,
     "metadata": {},
     "output_type": "execute_result"
    }
   ],
   "source": [
    "cuadrado(3)"
   ]
  },
  {
   "cell_type": "code",
   "execution_count": 88,
   "id": "b4adf630-2966-43e3-98e9-4dac4a0e4a50",
   "metadata": {},
   "outputs": [
    {
     "data": {
      "text/plain": [
       "saludo (generic function with 1 method)"
      ]
     },
     "execution_count": 88,
     "metadata": {},
     "output_type": "execute_result"
    }
   ],
   "source": [
    "#Funcion que te saluda con tu nombre\n",
    "saludo(nombre) = \"Hola $nombre, ¿Como estas?\""
   ]
  },
  {
   "cell_type": "code",
   "execution_count": 91,
   "id": "5a74ba0a-da98-45fb-9b33-f187bbb11a8d",
   "metadata": {},
   "outputs": [
    {
     "data": {
      "text/plain": [
       "\"Hola Luis, ¿Como estas?\""
      ]
     },
     "execution_count": 91,
     "metadata": {},
     "output_type": "execute_result"
    }
   ],
   "source": [
    "saludo(\"Luis\")"
   ]
  },
  {
   "cell_type": "code",
   "execution_count": 92,
   "id": "dfdefe9e-d111-4b56-9a19-3d24e192e0d5",
   "metadata": {},
   "outputs": [
    {
     "data": {
      "text/plain": [
       "saludo (generic function with 2 methods)"
      ]
     },
     "execution_count": 92,
     "metadata": {},
     "output_type": "execute_result"
    }
   ],
   "source": [
    "# Restringir el tipo de dato que la funcion puede o deba usar\n",
    "saludo(nombre::String) = \"Hola $nombre, ¿Como estas?\""
   ]
  },
  {
   "cell_type": "code",
   "execution_count": 93,
   "id": "fff81376-bfb8-4839-bd98-8a42307b67ef",
   "metadata": {},
   "outputs": [
    {
     "data": {
      "text/plain": [
       "3-element Array{String,1}:\n",
       " \"Hola Luis, ¿Como estas?\"   \n",
       " \"Hola Antonio, ¿Como estas?\"\n",
       " \"Hola Adolfo, ¿Como estas?\" "
      ]
     },
     "execution_count": 93,
     "metadata": {},
     "output_type": "execute_result"
    }
   ],
   "source": [
    "saludo.([\"Luis\", \"Antonio\", \"Adolfo\"])"
   ]
  },
  {
   "cell_type": "code",
   "execution_count": 94,
   "id": "9fe6d19a-7460-488c-b930-18d7fa760510",
   "metadata": {},
   "outputs": [
    {
     "data": {
      "text/plain": [
       "saludo_2 (generic function with 1 method)"
      ]
     },
     "execution_count": 94,
     "metadata": {},
     "output_type": "execute_result"
    }
   ],
   "source": [
    "saludo_2(nombre, apellido) = \"Hola $nombre $apellido\""
   ]
  },
  {
   "cell_type": "code",
   "execution_count": 95,
   "id": "751cfb31-4102-42bc-93ca-5e67a772a039",
   "metadata": {},
   "outputs": [
    {
     "data": {
      "text/plain": [
       "\"Hola Luis Diaz\""
      ]
     },
     "execution_count": 95,
     "metadata": {},
     "output_type": "execute_result"
    }
   ],
   "source": [
    "saludo_2(\"Luis\", \"Diaz\")"
   ]
  },
  {
   "cell_type": "code",
   "execution_count": 104,
   "id": "4d0d806f-5527-487b-8e36-6d420eaf9281",
   "metadata": {},
   "outputs": [
    {
     "data": {
      "text/plain": [
       "f (generic function with 2 methods)"
      ]
     },
     "execution_count": 104,
     "metadata": {},
     "output_type": "execute_result"
    }
   ],
   "source": [
    "function f(x=0)\n",
    "    if x<=0\n",
    "        return x^2\n",
    "    else \n",
    "        return x\n",
    "    end\n",
    "end"
   ]
  },
  {
   "cell_type": "code",
   "execution_count": 105,
   "id": "9053c378-46de-448e-b44b-e4e19a814d9b",
   "metadata": {},
   "outputs": [
    {
     "data": {
      "text/plain": [
       "0"
      ]
     },
     "execution_count": 105,
     "metadata": {},
     "output_type": "execute_result"
    }
   ],
   "source": [
    "f()"
   ]
  },
  {
   "cell_type": "code",
   "execution_count": 103,
   "id": "57c14144-9e33-472e-af54-5e89cbfe0fec",
   "metadata": {},
   "outputs": [
    {
     "data": {
      "text/plain": [
       "21-element Array{Int32,1}:\n",
       " 100\n",
       "  81\n",
       "  64\n",
       "  49\n",
       "  36\n",
       "  25\n",
       "  16\n",
       "   9\n",
       "   4\n",
       "   1\n",
       "   0\n",
       "   1\n",
       "   2\n",
       "   3\n",
       "   4\n",
       "   5\n",
       "   6\n",
       "   7\n",
       "   8\n",
       "   9\n",
       "  10"
      ]
     },
     "execution_count": 103,
     "metadata": {},
     "output_type": "execute_result"
    }
   ],
   "source": [
    "arreglo = -10:10\n",
    "f.(arreglo)"
   ]
  },
  {
   "cell_type": "code",
   "execution_count": 107,
   "id": "1b20547e-25f7-4452-a122-552a73aaedac",
   "metadata": {},
   "outputs": [
    {
     "data": {
      "text/plain": [
       "hello (generic function with 1 method)"
      ]
     },
     "execution_count": 107,
     "metadata": {},
     "output_type": "execute_result"
    }
   ],
   "source": [
    "function hello()\n",
    "   return \"Hola mundo\"\n",
    "end\n",
    "    "
   ]
  },
  {
   "cell_type": "code",
   "execution_count": 108,
   "id": "e9d67716-12f8-4fb9-8911-886e9beed362",
   "metadata": {},
   "outputs": [
    {
     "data": {
      "text/plain": [
       "\"Hola mundo\""
      ]
     },
     "execution_count": 108,
     "metadata": {},
     "output_type": "execute_result"
    }
   ],
   "source": [
    "hello()"
   ]
  },
  {
   "cell_type": "code",
   "execution_count": 122,
   "id": "c1cd2e43-f088-4442-96de-7e2da270e48b",
   "metadata": {},
   "outputs": [
    {
     "data": {
      "text/plain": [
       "f (generic function with 3 methods)"
      ]
     },
     "execution_count": 122,
     "metadata": {},
     "output_type": "execute_result"
    }
   ],
   "source": [
    "function f(x,y;w =12)\n",
    "    if x<=0\n",
    "        return w^(xy)\n",
    "    else\n",
    "        return y*x*w\n",
    "    end\n",
    "end"
   ]
  },
  {
   "cell_type": "code",
   "execution_count": 124,
   "id": "ab13f504-9435-48c5-a6e3-8fc948581308",
   "metadata": {},
   "outputs": [
    {
     "data": {
      "text/plain": [
       "15"
      ]
     },
     "execution_count": 124,
     "metadata": {},
     "output_type": "execute_result"
    }
   ],
   "source": [
    "f(3,5,w=1)"
   ]
  },
  {
   "cell_type": "code",
   "execution_count": null,
   "id": "dff2b0e3-f488-4a8e-8f76-ba9654b4de46",
   "metadata": {},
   "outputs": [],
   "source": [
    "# Project euler codewars"
   ]
  }
 ],
 "metadata": {
  "kernelspec": {
   "display_name": "Julia 1.7.2",
   "language": "julia",
   "name": "julia-1.7"
  },
  "language_info": {
   "file_extension": ".jl",
   "mimetype": "application/julia",
   "name": "julia",
   "version": "1.7.2"
  }
 },
 "nbformat": 4,
 "nbformat_minor": 5
}
