{
 "cells": [
  {
   "cell_type": "markdown",
   "id": "1f009332",
   "metadata": {},
   "source": [
    "# Introducción e instalacion, preparacion del entorno. \n",
    "\n",
    "Razones por las cuales Julia es atractivo.\n",
    "    - Lenguaje dinámico.\n",
    "    - Rapidez. es casi igual de rápido que C.\n",
    "    - Ejecución. Está hecho para combinarse con otros lenguajes de programación. \n",
    "    - Otros: Data Sciencie. Ejecucion en paralelo. \n",
    "\n",
    " "
   ]
  },
  {
   "cell_type": "markdown",
   "id": "ef620100-4955-42f5-896f-0da22d5b7b66",
   "metadata": {},
   "source": [
    "# Aritmética\n",
    "    - Operaciones que se pueden hacer como una calculadora. \n",
    "    - Julia está orientado a resolver problemas en matemáticas. \n",
    "    - Las asignaciones se hacen con el signo =. Las variables son libres, excepto en las palabras reservadas. "
   ]
  },
  {
   "cell_type": "code",
   "execution_count": null,
   "id": "28af0419-cecc-4539-9b42-b8d8d60e3606",
   "metadata": {},
   "outputs": [],
   "source": []
  },
  {
   "cell_type": "raw",
   "id": "6e2d8dfb-1f1d-4389-beba-fb1ed54c4483",
   "metadata": {},
   "source": [
    "# Es un lenjuage orientado para los matemáticos. \n",
    "+(5,2)"
   ]
  },
  {
   "cell_type": "code",
   "execution_count": 3,
   "id": "39cd2b85-812d-4d0c-947a-b5326be74d45",
   "metadata": {},
   "outputs": [
    {
     "data": {
      "text/plain": [
       "7"
      ]
     },
     "execution_count": 3,
     "metadata": {},
     "output_type": "execute_result"
    }
   ],
   "source": [
    "5+2"
   ]
  },
  {
   "cell_type": "code",
   "execution_count": 15,
   "id": "d35bcea3-f27c-4cc7-91b8-a22a216bb63f",
   "metadata": {},
   "outputs": [
    {
     "ename": "UndefVarError",
     "evalue": "\u001b[91mUndefVarError: 💥 not defined\u001b[39m",
     "output_type": "error",
     "traceback": [
      "\u001b[91mUndefVarError: 💥 not defined\u001b[39m",
      "",
      "Stacktrace:",
      " [1] top-level scope at In[15]:1"
     ]
    }
   ],
   "source": [
    "💥 "
   ]
  },
  {
   "cell_type": "code",
   "execution_count": 1,
   "id": "18e31d46",
   "metadata": {},
   "outputs": [
    {
     "name": "stdout",
     "output_type": "stream",
     "text": [
      "                                                                                \n",
      "                                                                                \n",
      "                                                                                \n",
      "                                                           **                   \n",
      "                                                         ******                 \n",
      "                                                       ********                 \n",
      "                                                         ******                 \n",
      "                                                      ******** **   *           \n",
      "                                              ***   *****************           \n",
      "                                              ************************  ***     \n",
      "                                              ****************************      \n",
      "                                           ******************************       \n",
      "                                            ******************************      \n",
      "                                         ************************************   \n",
      "                                *         **********************************    \n",
      "                           ** ***** *     **********************************    \n",
      "                           ***********   ************************************   \n",
      "                         ************** ************************************    \n",
      "                         ***************************************************    \n",
      "                     *****************************************************      \n",
      " ***********************************************************************        \n",
      "                     *****************************************************      \n",
      "                         ***************************************************    \n",
      "                         ************** ************************************    \n",
      "                           ***********   ************************************   \n",
      "                           ** ***** *     **********************************    \n",
      "                                *         **********************************    \n",
      "                                         ************************************   \n",
      "                                            ******************************      \n",
      "                                           ******************************       \n",
      "                                              ****************************      \n",
      "                                              ************************  ***     \n",
      "                                              ***   *****************           \n",
      "                                                      ******** **   *           \n",
      "                                                         ******                 \n",
      "                                                       ********                 \n",
      "                                                         ******                 \n",
      "                                                           **                   \n",
      "                                                                                \n",
      "                                                                                \n",
      "                                                                                \n"
     ]
    }
   ],
   "source": [
    "function mandelbrot(a)\n",
    "    z = 0\n",
    "    for i=1:50\n",
    "        z = z^2 + a\n",
    "    end\n",
    "    return z\n",
    "end\n",
    "\n",
    "for y=1.0:-0.05:-1.0\n",
    "    for x=-2.0:0.0315:0.5\n",
    "        abs(mandelbrot(complex(x, y))) < 2 ? print(\"*\") : print(\" \")\n",
    "    end\n",
    "    println()\n",
    "end\n",
    "\n",
    "# Taken from: https://rosettacode.org/wiki/Mandelbrot_set#Julia"
   ]
  },
  {
   "cell_type": "code",
   "execution_count": null,
   "id": "90b11fe6",
   "metadata": {},
   "outputs": [],
   "source": []
  }
 ],
 "metadata": {
  "kernelspec": {
   "display_name": "Julia 1.0.4",
   "language": "julia",
   "name": "julia-1.0"
  },
  "language_info": {
   "file_extension": ".jl",
   "mimetype": "application/julia",
   "name": "julia",
   "version": "1.0.4"
  }
 },
 "nbformat": 4,
 "nbformat_minor": 5
}
