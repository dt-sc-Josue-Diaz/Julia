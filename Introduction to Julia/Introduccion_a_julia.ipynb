{
 "cells": [
  {
   "cell_type": "markdown",
   "id": "d1658a83-be7f-45e0-b40d-f598cf47b5d7",
   "metadata": {},
   "source": [
    "# Introducción y primeros pasos\n",
    "- Como usar  `print`\n",
    "- Como asignar valores a variables\n",
    "- Como comentar\n",
    "- Aritmética\n",
    "- Ejercicios\n"
   ]
  },
  {
   "cell_type": "markdown",
   "id": "99550cde-6b49-41a9-a76d-a7f079ea3cd5",
   "metadata": {},
   "source": [
    "## print\n",
    "Es la función que usamos para que la computadora nos devuelva valores o cadenas que queremos conocer.\n",
    "`println(\"mensaje\")`\n",
    "\n",
    "`println(\"mensaje\")`"
   ]
  },
  {
   "cell_type": "code",
   "execution_count": 1,
   "id": "5af54869-07ae-4a56-b94d-b8fa5ee5403c",
   "metadata": {},
   "outputs": [
    {
     "name": "stdout",
     "output_type": "stream",
     "text": [
      "Es un mensaje, bye.\n"
     ]
    }
   ],
   "source": [
    "println(\"Es un mensaje,\", \" bye.\")"
   ]
  },
  {
   "cell_type": "markdown",
   "id": "fd22684e-9fe2-46b3-b906-7a7f2fabb875",
   "metadata": {},
   "source": [
    "## Asignar variables\n",
    "La asignación de variables se hace con el signo `=`. El nombre de las variables puede ser variado. Incluso emojis, la asignación es muy variada.\n"
   ]
  },
  {
   "cell_type": "code",
   "execution_count": 2,
   "id": "66e86548-857c-4143-b6b8-a9e0f1e59b47",
   "metadata": {},
   "outputs": [
    {
     "data": {
      "text/plain": [
       "1.7724538509055159"
      ]
     },
     "execution_count": 2,
     "metadata": {},
     "output_type": "execute_result"
    }
   ],
   "source": [
    "😸= sqrt(π)"
   ]
  },
  {
   "cell_type": "code",
   "execution_count": 3,
   "id": "dd4835bc-b0d0-40ad-b58b-94594515e3aa",
   "metadata": {},
   "outputs": [
    {
     "data": {
      "text/plain": [
       "Float64"
      ]
     },
     "execution_count": 3,
     "metadata": {},
     "output_type": "execute_result"
    }
   ],
   "source": [
    "typeof(😸)"
   ]
  },
  {
   "cell_type": "markdown",
   "id": "052474f0-dfc2-49f6-8fcc-09a4d94e3c8f",
   "metadata": {},
   "source": [
    "## Comentarios\n",
    "Los comentarios se hacen con `#`. Los comentarios de multilinea se hace como entorno con `#=` y `=#`"
   ]
  },
  {
   "cell_type": "code",
   "execution_count": 4,
   "id": "5dd81ec9-c1e5-49fb-8e03-111fb43df241",
   "metadata": {},
   "outputs": [],
   "source": [
    "#=\n",
    "Esto\n",
    "es \n",
    "un \n",
    "comentario\n",
    "=#"
   ]
  },
  {
   "cell_type": "markdown",
   "id": "9b6ba4b7-5c8f-4236-bc2d-d06c99a2ca37",
   "metadata": {},
   "source": [
    "## Aritmética\n",
    " -  `+` suma\n",
    " - `-` resta\n",
    " - `*` producto\n",
    " - `\\` cociente\n",
    " - `^` potencia\n",
    " - `%` modulo\n",
    " \n",
    "Estas operaciones respetan la jerarquia de operaciones. La división por cero no está definida. "
   ]
  },
  {
   "cell_type": "markdown",
   "id": "26320353-e257-4dd6-820f-65d23d3e4c76",
   "metadata": {},
   "source": [
    "## Ejercicios\n",
    "Ejercicios propuestos#### 1.1 \n",
    "Look up docs for the `convert` function."
   ]
  },
  {
   "cell_type": "markdown",
   "id": "b5cbb332-b52d-4e43-8e6e-b7178f215d00",
   "metadata": {},
   "source": [
    "#### 1.1 \n",
    "Look up docs for the `convert` function."
   ]
  },
  {
   "cell_type": "code",
   "execution_count": 5,
   "id": "80c8fcb2-18c1-41d7-94e8-1a947d218ae8",
   "metadata": {},
   "outputs": [
    {
     "name": "stdout",
     "output_type": "stream",
     "text": [
      "search: \u001b[0m\u001b[1mc\u001b[22m\u001b[0m\u001b[1mo\u001b[22m\u001b[0m\u001b[1mn\u001b[22m\u001b[0m\u001b[1mv\u001b[22m\u001b[0m\u001b[1me\u001b[22m\u001b[0m\u001b[1mr\u001b[22m\u001b[0m\u001b[1mt\u001b[22m \u001b[0m\u001b[1mC\u001b[22m\u001b[0m\u001b[1mo\u001b[22m\u001b[0m\u001b[1mn\u001b[22mcurrency\u001b[0m\u001b[1mV\u001b[22miolation\u001b[0m\u001b[1mE\u001b[22m\u001b[0m\u001b[1mr\u001b[22mror \u001b[0m\u001b[1mc\u001b[22m\u001b[0m\u001b[1mo\u001b[22mde_\u001b[0m\u001b[1mn\u001b[22mati\u001b[0m\u001b[1mv\u001b[22m\u001b[0m\u001b[1me\u001b[22m @\u001b[0m\u001b[1mc\u001b[22m\u001b[0m\u001b[1mo\u001b[22mde_\u001b[0m\u001b[1mn\u001b[22mati\u001b[0m\u001b[1mv\u001b[22m\u001b[0m\u001b[1me\u001b[22m\n",
      "\n"
     ]
    },
    {
     "data": {
      "text/latex": [
       "\\begin{verbatim}\n",
       "convert(T, x)\n",
       "\\end{verbatim}\n",
       "Convert \\texttt{x} to a value of type \\texttt{T}.\n",
       "\n",
       "If \\texttt{T} is an \\href{@ref}{\\texttt{Integer}} type, an \\href{@ref}{\\texttt{InexactError}} will be raised if \\texttt{x} is not representable by \\texttt{T}, for example if \\texttt{x} is not integer-valued, or is outside the range supported by \\texttt{T}.\n",
       "\n",
       "\\section{Examples}\n",
       "\\begin{verbatim}\n",
       "julia> convert(Int, 3.0)\n",
       "3\n",
       "\n",
       "julia> convert(Int, 3.5)\n",
       "ERROR: InexactError: Int64(3.5)\n",
       "Stacktrace:\n",
       "[...]\n",
       "\\end{verbatim}\n",
       "If \\texttt{T} is a \\href{@ref}{\\texttt{AbstractFloat}} or \\href{@ref}{\\texttt{Rational}} type, then it will return the closest value to \\texttt{x} representable by \\texttt{T}.\n",
       "\n",
       "\\begin{verbatim}\n",
       "julia> x = 1/3\n",
       "0.3333333333333333\n",
       "\n",
       "julia> convert(Float32, x)\n",
       "0.33333334f0\n",
       "\n",
       "julia> convert(Rational{Int32}, x)\n",
       "1//3\n",
       "\n",
       "julia> convert(Rational{Int64}, x)\n",
       "6004799503160661//18014398509481984\n",
       "\\end{verbatim}\n",
       "If \\texttt{T} is a collection type and \\texttt{x} a collection, the result of \\texttt{convert(T, x)} may alias all or part of \\texttt{x}.\n",
       "\n",
       "\\begin{verbatim}\n",
       "julia> x = Int[1, 2, 3];\n",
       "\n",
       "julia> y = convert(Vector{Int}, x);\n",
       "\n",
       "julia> y === x\n",
       "true\n",
       "\\end{verbatim}\n",
       "See also: \\href{@ref}{\\texttt{round}}, \\href{@ref}{\\texttt{trunc}}, \\href{@ref}{\\texttt{oftype}}, \\href{@ref}{\\texttt{reinterpret}}.\n",
       "\n"
      ],
      "text/markdown": [
       "```\n",
       "convert(T, x)\n",
       "```\n",
       "\n",
       "Convert `x` to a value of type `T`.\n",
       "\n",
       "If `T` is an [`Integer`](@ref) type, an [`InexactError`](@ref) will be raised if `x` is not representable by `T`, for example if `x` is not integer-valued, or is outside the range supported by `T`.\n",
       "\n",
       "# Examples\n",
       "\n",
       "```jldoctest\n",
       "julia> convert(Int, 3.0)\n",
       "3\n",
       "\n",
       "julia> convert(Int, 3.5)\n",
       "ERROR: InexactError: Int64(3.5)\n",
       "Stacktrace:\n",
       "[...]\n",
       "```\n",
       "\n",
       "If `T` is a [`AbstractFloat`](@ref) or [`Rational`](@ref) type, then it will return the closest value to `x` representable by `T`.\n",
       "\n",
       "```jldoctest\n",
       "julia> x = 1/3\n",
       "0.3333333333333333\n",
       "\n",
       "julia> convert(Float32, x)\n",
       "0.33333334f0\n",
       "\n",
       "julia> convert(Rational{Int32}, x)\n",
       "1//3\n",
       "\n",
       "julia> convert(Rational{Int64}, x)\n",
       "6004799503160661//18014398509481984\n",
       "```\n",
       "\n",
       "If `T` is a collection type and `x` a collection, the result of `convert(T, x)` may alias all or part of `x`.\n",
       "\n",
       "```jldoctest\n",
       "julia> x = Int[1, 2, 3];\n",
       "\n",
       "julia> y = convert(Vector{Int}, x);\n",
       "\n",
       "julia> y === x\n",
       "true\n",
       "```\n",
       "\n",
       "See also: [`round`](@ref), [`trunc`](@ref), [`oftype`](@ref), [`reinterpret`](@ref).\n"
      ],
      "text/plain": [
       "\u001b[36m  convert(T, x)\u001b[39m\n",
       "\n",
       "  Convert \u001b[36mx\u001b[39m to a value of type \u001b[36mT\u001b[39m.\n",
       "\n",
       "  If \u001b[36mT\u001b[39m is an \u001b[36mInteger\u001b[39m type, an \u001b[36mInexactError\u001b[39m will be raised if \u001b[36mx\u001b[39m is not\n",
       "  representable by \u001b[36mT\u001b[39m, for example if \u001b[36mx\u001b[39m is not integer-valued, or is outside\n",
       "  the range supported by \u001b[36mT\u001b[39m.\n",
       "\n",
       "\u001b[1m  Examples\u001b[22m\n",
       "\u001b[1m  ≡≡≡≡≡≡≡≡≡≡\u001b[22m\n",
       "\n",
       "\u001b[36m  julia> convert(Int, 3.0)\u001b[39m\n",
       "\u001b[36m  3\u001b[39m\n",
       "\u001b[36m  \u001b[39m\n",
       "\u001b[36m  julia> convert(Int, 3.5)\u001b[39m\n",
       "\u001b[36m  ERROR: InexactError: Int64(3.5)\u001b[39m\n",
       "\u001b[36m  Stacktrace:\u001b[39m\n",
       "\u001b[36m  [...]\u001b[39m\n",
       "\n",
       "  If \u001b[36mT\u001b[39m is a \u001b[36mAbstractFloat\u001b[39m or \u001b[36mRational\u001b[39m type, then it will return the closest\n",
       "  value to \u001b[36mx\u001b[39m representable by \u001b[36mT\u001b[39m.\n",
       "\n",
       "\u001b[36m  julia> x = 1/3\u001b[39m\n",
       "\u001b[36m  0.3333333333333333\u001b[39m\n",
       "\u001b[36m  \u001b[39m\n",
       "\u001b[36m  julia> convert(Float32, x)\u001b[39m\n",
       "\u001b[36m  0.33333334f0\u001b[39m\n",
       "\u001b[36m  \u001b[39m\n",
       "\u001b[36m  julia> convert(Rational{Int32}, x)\u001b[39m\n",
       "\u001b[36m  1//3\u001b[39m\n",
       "\u001b[36m  \u001b[39m\n",
       "\u001b[36m  julia> convert(Rational{Int64}, x)\u001b[39m\n",
       "\u001b[36m  6004799503160661//18014398509481984\u001b[39m\n",
       "\n",
       "  If \u001b[36mT\u001b[39m is a collection type and \u001b[36mx\u001b[39m a collection, the result of \u001b[36mconvert(T, x)\u001b[39m\n",
       "  may alias all or part of \u001b[36mx\u001b[39m.\n",
       "\n",
       "\u001b[36m  julia> x = Int[1, 2, 3];\u001b[39m\n",
       "\u001b[36m  \u001b[39m\n",
       "\u001b[36m  julia> y = convert(Vector{Int}, x);\u001b[39m\n",
       "\u001b[36m  \u001b[39m\n",
       "\u001b[36m  julia> y === x\u001b[39m\n",
       "\u001b[36m  true\u001b[39m\n",
       "\n",
       "  See also: \u001b[36mround\u001b[39m, \u001b[36mtrunc\u001b[39m, \u001b[36moftype\u001b[39m, \u001b[36mreinterpret\u001b[39m."
      ]
     },
     "execution_count": 5,
     "metadata": {},
     "output_type": "execute_result"
    }
   ],
   "source": [
    "?convert"
   ]
  },
  {
   "cell_type": "markdown",
   "id": "a1d9d7f4-9f95-44b9-bd0a-2f3720a17190",
   "metadata": {},
   "source": [
    "#### 1.2 \n",
    "Assign `365` to a variable named `days`. Convert `days` to a float and assign it to variable `days_float`"
   ]
  },
  {
   "cell_type": "code",
   "execution_count": 6,
   "id": "b9bebfa5-d41a-4695-9981-a3bc8a01904c",
   "metadata": {},
   "outputs": [
    {
     "data": {
      "text/plain": [
       "365.0"
      ]
     },
     "execution_count": 6,
     "metadata": {},
     "output_type": "execute_result"
    }
   ],
   "source": [
    "days = 365\n",
    "days_float = convert(Float64,days)"
   ]
  },
  {
   "cell_type": "code",
   "execution_count": 7,
   "id": "300d253e-a335-475e-bcc6-abea85f2af0d",
   "metadata": {},
   "outputs": [],
   "source": [
    "@assert days == 365\n",
    "@assert days_float == 365.0\n"
   ]
  },
  {
   "cell_type": "markdown",
   "id": "ea00b655-a93b-4c31-962f-ea454504a826",
   "metadata": {},
   "source": [
    "#### 1.3 \n",
    "See what happens when you execute\n",
    "\n",
    "```julia\n",
    "convert(Int64, \"1\")\n",
    "```\n",
    "and\n",
    "\n",
    "```julia\n",
    "parse(Int64, \"1\")\n",
    "```"
   ]
  },
  {
   "cell_type": "code",
   "execution_count": 8,
   "id": "7be6dd1d-13cc-40be-a5d8-c97b3ef0f2bf",
   "metadata": {},
   "outputs": [
    {
     "ename": "LoadError",
     "evalue": "MethodError: \u001b[0mCannot `convert` an object of type \u001b[92mString\u001b[39m\u001b[0m to an object of type \u001b[91mInt64\u001b[39m\n\u001b[0mClosest candidates are:\n\u001b[0m  convert(::Type{T}, \u001b[91m::T\u001b[39m) where T<:Number at C:\\Users\\dtscj\\AppData\\Local\\Programs\\Julia-1.7.3\\share\\julia\\base\\number.jl:6\n\u001b[0m  convert(::Type{T}, \u001b[91m::Number\u001b[39m) where T<:Number at C:\\Users\\dtscj\\AppData\\Local\\Programs\\Julia-1.7.3\\share\\julia\\base\\number.jl:7\n\u001b[0m  convert(::Type{T}, \u001b[91m::Base.TwicePrecision\u001b[39m) where T<:Number at C:\\Users\\dtscj\\AppData\\Local\\Programs\\Julia-1.7.3\\share\\julia\\base\\twiceprecision.jl:262\n\u001b[0m  ...",
     "output_type": "error",
     "traceback": [
      "MethodError: \u001b[0mCannot `convert` an object of type \u001b[92mString\u001b[39m\u001b[0m to an object of type \u001b[91mInt64\u001b[39m\n\u001b[0mClosest candidates are:\n\u001b[0m  convert(::Type{T}, \u001b[91m::T\u001b[39m) where T<:Number at C:\\Users\\dtscj\\AppData\\Local\\Programs\\Julia-1.7.3\\share\\julia\\base\\number.jl:6\n\u001b[0m  convert(::Type{T}, \u001b[91m::Number\u001b[39m) where T<:Number at C:\\Users\\dtscj\\AppData\\Local\\Programs\\Julia-1.7.3\\share\\julia\\base\\number.jl:7\n\u001b[0m  convert(::Type{T}, \u001b[91m::Base.TwicePrecision\u001b[39m) where T<:Number at C:\\Users\\dtscj\\AppData\\Local\\Programs\\Julia-1.7.3\\share\\julia\\base\\twiceprecision.jl:262\n\u001b[0m  ...",
      "",
      "Stacktrace:",
      " [1] top-level scope",
      "   @ In[8]:1",
      " [2] eval",
      "   @ .\\boot.jl:373 [inlined]",
      " [3] include_string(mapexpr::typeof(REPL.softscope), mod::Module, code::String, filename::String)",
      "   @ Base .\\loading.jl:1196"
     ]
    }
   ],
   "source": [
    "convert(Int64,\"1\")"
   ]
  },
  {
   "cell_type": "code",
   "execution_count": 10,
   "id": "d08b1add-7b53-4112-9be2-47c1b4e43f1b",
   "metadata": {},
   "outputs": [
    {
     "data": {
      "text/plain": [
       "1"
      ]
     },
     "execution_count": 10,
     "metadata": {},
     "output_type": "execute_result"
    }
   ],
   "source": [
    "parse(Int64,\"1\")"
   ]
  },
  {
   "cell_type": "markdown",
   "id": "c552d83f-b964-429a-be5f-8472e999a95d",
   "metadata": {},
   "source": [
    "# Strings\n",
    "Son las cadenas de simbolos que en ocaciones usamos como textos. Estos se identifican por que van entre ``` \" \" ``` o como ``` \"\"\" \"\"\" ```, es decir entre comillas dobles o entre triple comillas dobles. La diferencia, es que para usar cadenas de texto con doble comillas es necesario usar triple comillas dobles. "
   ]
  },
  {
   "cell_type": "code",
   "execution_count": 11,
   "id": "f2210d93-f5ca-4307-a8a2-7c0c9d0dfc11",
   "metadata": {},
   "outputs": [
    {
     "data": {
      "text/plain": [
       "\"Look, Mom, no \\\"errors\\\"!!! \""
      ]
     },
     "execution_count": 11,
     "metadata": {},
     "output_type": "execute_result"
    }
   ],
   "source": [
    "\"\"\"Look, Mom, no \"errors\"!!! \"\"\""
   ]
  },
  {
   "cell_type": "code",
   "execution_count": 13,
   "id": "f212d816-611e-4063-bffa-9b62d7726c40",
   "metadata": {},
   "outputs": [
    {
     "data": {
      "text/plain": [
       "Char"
      ]
     },
     "execution_count": 13,
     "metadata": {},
     "output_type": "execute_result"
    }
   ],
   "source": [
    "typeof('a')"
   ]
  },
  {
   "cell_type": "markdown",
   "id": "357048ce-2358-4e8e-8003-a7b948fdb349",
   "metadata": {},
   "source": [
    "Las comillas simples determinan un caracter, no un string, por ello no podemos usarlas para definir strings. \n"
   ]
  },
  {
   "cell_type": "code",
   "execution_count": 15,
   "id": "d734660b-05bf-491d-b09c-ff009a6aa08d",
   "metadata": {},
   "outputs": [
    {
     "ename": "LoadError",
     "evalue": "syntax: character literal contains multiple characters",
     "output_type": "error",
     "traceback": [
      "syntax: character literal contains multiple characters",
      "",
      "Stacktrace:",
      " [1] top-level scope",
      "   @ In[15]:1",
      " [2] eval",
      "   @ .\\boot.jl:373 [inlined]",
      " [3] include_string(mapexpr::typeof(REPL.softscope), mod::Module, code::String, filename::String)",
      "   @ Base .\\loading.jl:1196"
     ]
    }
   ],
   "source": [
    "'We will get an error here'"
   ]
  },
  {
   "cell_type": "markdown",
   "id": "f944dd25-a382-4e52-abeb-57d9625767e8",
   "metadata": {},
   "source": [
    "## Interpolar cadenas\n",
    "En ocaciones nos será conveniente conbinar cadenas con textos, para ello `Julia` nos permite usar  el signo `$`. El uso es de la suguiente manera"
   ]
  },
  {
   "cell_type": "code",
   "execution_count": 17,
   "id": "106050e4-b34a-4139-8408-f0d4dfc01f36",
   "metadata": {},
   "outputs": [
    {
     "data": {
      "text/plain": [
       "10"
      ]
     },
     "execution_count": 17,
     "metadata": {},
     "output_type": "execute_result"
    }
   ],
   "source": [
    "name = \"Jane\"\n",
    "num_fingers = 10\n",
    "num_toes = 10 "
   ]
  },
  {
   "cell_type": "code",
   "execution_count": 19,
   "id": "3ae5b82c-a002-4dcf-b81a-418f9215c71e",
   "metadata": {},
   "outputs": [
    {
     "name": "stdout",
     "output_type": "stream",
     "text": [
      "Hello, my name is Jane.\n",
      "I have 10 fingers and 10 toes.\n"
     ]
    }
   ],
   "source": [
    "println(\"Hello, my name is $name.\")\n",
    "println(\"I have $num_fingers fingers and $num_toes toes.\")"
   ]
  },
  {
   "cell_type": "markdown",
   "id": "083fdd43-0854-476c-b140-b7aae49479d8",
   "metadata": {},
   "source": [
    "## Concatenacion de cadenas\n",
    "Es una operacion entre cadenas, en si es la unión de dos cadenas en una. Uso de la función `string()`"
   ]
  },
  {
   "cell_type": "code",
   "execution_count": 20,
   "id": "1cd7e194-5e23-4fa1-bf13-d67ed697e3b5",
   "metadata": {},
   "outputs": [
    {
     "data": {
      "text/plain": [
       "10"
      ]
     },
     "execution_count": 20,
     "metadata": {},
     "output_type": "execute_result"
    }
   ],
   "source": [
    "s3 = \"How many cats \";\n",
    "s4 = \"is too many cats?\";\n",
    "😺 = 10"
   ]
  },
  {
   "cell_type": "code",
   "execution_count": 21,
   "id": "e36b376f-6b6a-45ef-b81a-c7930171382b",
   "metadata": {},
   "outputs": [
    {
     "data": {
      "text/plain": [
       "\"How many cats is too many cats?\""
      ]
     },
     "execution_count": 21,
     "metadata": {},
     "output_type": "execute_result"
    }
   ],
   "source": [
    "string(s3, s4)"
   ]
  },
  {
   "cell_type": "code",
   "execution_count": 22,
   "id": "241b41f6-cd7c-4168-ba78-8fe5b1161a9d",
   "metadata": {},
   "outputs": [
    {
     "data": {
      "text/plain": [
       "\"I don't know, but 10 is too few.\""
      ]
     },
     "execution_count": 22,
     "metadata": {},
     "output_type": "execute_result"
    }
   ],
   "source": [
    "string(\"I don't know, but \", 😺, \" is too few.\")"
   ]
  },
  {
   "cell_type": "markdown",
   "id": "80ece927-7f64-4063-baae-0ce0bc89d769",
   "metadata": {},
   "source": [
    "## Ejercicios"
   ]
  },
  {
   "cell_type": "markdown",
   "id": "f7a5561c-9e88-41eb-a2f4-c3db989de9d1",
   "metadata": {},
   "source": [
    "#### 2.1 \n",
    "Create a string that says \"hi\" 1000 times, first with `repeat` and then with the exponentiation operator, which can call `*` under the hood. Assign it the variable `hi` below."
   ]
  },
  {
   "cell_type": "code",
   "execution_count": 23,
   "id": "1c0a52b9-7347-440c-9eaa-c3ec64af60ed",
   "metadata": {},
   "outputs": [
    {
     "data": {
      "text/plain": [
       "\"hihihihihihihihihihihihihihihihihihihihihihihihihihihihihihihihihihihihihihihihihihihihihihihihihihihihihihihihihihihihihihihihihihihihihihihihihihihihihihihihihihihihihihihihihihihihihihihihihihihihihihihihihihihihihihihihihihihihihihihihihihihihihihihihihihihihihihihi\" ⋯ 1460 bytes ⋯ \"hihihihihihihihihihihihihihihihihihihihihihihihihihihihihihihihihihihihihihihihihihihihihihihihihihihihihihihihihihihihihihihihihihihihihihihihihihihihihihihihihihihihihihihihihihihihihihihihihihihihihihihihihihihihihihihihihihihihihihihihihihihihihihihihihihihihihihihi\""
      ]
     },
     "execution_count": 23,
     "metadata": {},
     "output_type": "execute_result"
    }
   ],
   "source": [
    "hi= repeat(\"hi\",1000)"
   ]
  },
  {
   "cell_type": "code",
   "execution_count": 24,
   "id": "43306e6e-20ac-423e-8f80-88eebc118171",
   "metadata": {},
   "outputs": [
    {
     "data": {
      "text/plain": [
       "\"hihihihihihihihihihihihihihihihihihihihihihihihihihihihihihihihihihihihihihihihihihihihihihihihihihihihihihihihihihihihihihihihihihihihihihihihihihihihihihihihihihihihihihihihihihihihihihihihihihihihihihihihihihihihihihihihihihihihihihihihihihihihihihihihihihihihihihihi\" ⋯ 19461 bytes ⋯ \"ihihihihihihihihihihihihihihihihihihihihihihihihihihihihihihihihihihihihihihihihihihihihihihihihihihihihihihihihihihihihihihihihihihihihihihihihihihihihihihihihihihihihihihihihihihihihihihihihihihihihihihihihihihihihihihihihihihihihihihihihihihihihihihihihihihihihihihi\""
      ]
     },
     "execution_count": 24,
     "metadata": {},
     "output_type": "execute_result"
    }
   ],
   "source": [
    "hi = \"hi\"^10000"
   ]
  },
  {
   "cell_type": "markdown",
   "id": "50700c7b-ccaf-4fdc-a666-2dc3483917d6",
   "metadata": {},
   "source": [
    "### 2.2 \n",
    "Declare two variables\n",
    "\n",
    "```julia\n",
    "a = 3\n",
    "b = 4\n",
    "```\n",
    "and use them to create two strings:\n",
    "```julia\n",
    "\"3 + 4\"\n",
    "\"7\" \n",
    "```\n",
    "and store the results in `c` and `d` respectively"
   ]
  },
  {
   "cell_type": "code",
   "execution_count": 28,
   "id": "efe5d05d-6cba-4469-a8e1-576df20cfd1f",
   "metadata": {},
   "outputs": [
    {
     "data": {
      "text/plain": [
       "4"
      ]
     },
     "execution_count": 28,
     "metadata": {},
     "output_type": "execute_result"
    }
   ],
   "source": [
    "a = 3\n",
    "b = 4"
   ]
  },
  {
   "cell_type": "code",
   "execution_count": 29,
   "id": "023c7607-a44d-476e-ad65-297f107d8c60",
   "metadata": {},
   "outputs": [
    {
     "data": {
      "text/plain": [
       "\"3 + 4\""
      ]
     },
     "execution_count": 29,
     "metadata": {},
     "output_type": "execute_result"
    }
   ],
   "source": [
    "c = \"$a + $b\""
   ]
  },
  {
   "cell_type": "code",
   "execution_count": 31,
   "id": "341032b8-a69d-4a3a-8a7c-27d1c0c0fd74",
   "metadata": {},
   "outputs": [
    {
     "data": {
      "text/plain": [
       "\"7\""
      ]
     },
     "execution_count": 31,
     "metadata": {},
     "output_type": "execute_result"
    }
   ],
   "source": [
    "d=\"$(a+b)\""
   ]
  },
  {
   "cell_type": "code",
   "execution_count": null,
   "id": "2928a20e-c215-42cb-9529-f617654a2c33",
   "metadata": {},
   "outputs": [],
   "source": []
  },
  {
   "cell_type": "code",
   "execution_count": null,
   "id": "c7865b39-c3c3-4df9-99bd-a78296d13e46",
   "metadata": {},
   "outputs": [],
   "source": []
  }
 ],
 "metadata": {
  "kernelspec": {
   "display_name": "Julia 1.7.3",
   "language": "julia",
   "name": "julia-1.7"
  },
  "language_info": {
   "file_extension": ".jl",
   "mimetype": "application/julia",
   "name": "julia",
   "version": "1.7.3"
  }
 },
 "nbformat": 4,
 "nbformat_minor": 5
}
